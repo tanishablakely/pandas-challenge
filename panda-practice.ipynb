{
 "cells": [
  {
   "cell_type": "code",
   "execution_count": 23,
   "metadata": {},
   "outputs": [],
   "source": [
    "# Dependencies and Setup\n",
    "import pandas as pd"
   ]
  },
  {
   "cell_type": "code",
   "execution_count": 36,
   "metadata": {},
   "outputs": [
    {
     "data": {
      "text/html": [
       "<div>\n",
       "<style scoped>\n",
       "    .dataframe tbody tr th:only-of-type {\n",
       "        vertical-align: middle;\n",
       "    }\n",
       "\n",
       "    .dataframe tbody tr th {\n",
       "        vertical-align: top;\n",
       "    }\n",
       "\n",
       "    .dataframe thead th {\n",
       "        text-align: right;\n",
       "    }\n",
       "</style>\n",
       "<table border=\"1\" class=\"dataframe\">\n",
       "  <thead>\n",
       "    <tr style=\"text-align: right;\">\n",
       "      <th></th>\n",
       "      <th>Purchase ID</th>\n",
       "      <th>SN</th>\n",
       "      <th>Age</th>\n",
       "      <th>Gender</th>\n",
       "      <th>Item ID</th>\n",
       "      <th>Item Name</th>\n",
       "      <th>Price</th>\n",
       "    </tr>\n",
       "  </thead>\n",
       "  <tbody>\n",
       "    <tr>\n",
       "      <td>0</td>\n",
       "      <td>0</td>\n",
       "      <td>Lisim78</td>\n",
       "      <td>20</td>\n",
       "      <td>Male</td>\n",
       "      <td>108</td>\n",
       "      <td>Extraction, Quickblade Of Trembling Hands</td>\n",
       "      <td>3.53</td>\n",
       "    </tr>\n",
       "    <tr>\n",
       "      <td>1</td>\n",
       "      <td>1</td>\n",
       "      <td>Lisovynya38</td>\n",
       "      <td>40</td>\n",
       "      <td>Male</td>\n",
       "      <td>143</td>\n",
       "      <td>Frenzied Scimitar</td>\n",
       "      <td>1.56</td>\n",
       "    </tr>\n",
       "    <tr>\n",
       "      <td>2</td>\n",
       "      <td>2</td>\n",
       "      <td>Ithergue48</td>\n",
       "      <td>24</td>\n",
       "      <td>Male</td>\n",
       "      <td>92</td>\n",
       "      <td>Final Critic</td>\n",
       "      <td>4.88</td>\n",
       "    </tr>\n",
       "    <tr>\n",
       "      <td>3</td>\n",
       "      <td>3</td>\n",
       "      <td>Chamassasya86</td>\n",
       "      <td>24</td>\n",
       "      <td>Male</td>\n",
       "      <td>100</td>\n",
       "      <td>Blindscythe</td>\n",
       "      <td>3.27</td>\n",
       "    </tr>\n",
       "    <tr>\n",
       "      <td>4</td>\n",
       "      <td>4</td>\n",
       "      <td>Iskosia90</td>\n",
       "      <td>23</td>\n",
       "      <td>Male</td>\n",
       "      <td>131</td>\n",
       "      <td>Fury</td>\n",
       "      <td>1.44</td>\n",
       "    </tr>\n",
       "  </tbody>\n",
       "</table>\n",
       "</div>"
      ],
      "text/plain": [
       "   Purchase ID             SN  Age Gender  Item ID  \\\n",
       "0            0        Lisim78   20   Male      108   \n",
       "1            1    Lisovynya38   40   Male      143   \n",
       "2            2     Ithergue48   24   Male       92   \n",
       "3            3  Chamassasya86   24   Male      100   \n",
       "4            4      Iskosia90   23   Male      131   \n",
       "\n",
       "                                   Item Name  Price  \n",
       "0  Extraction, Quickblade Of Trembling Hands   3.53  \n",
       "1                          Frenzied Scimitar   1.56  \n",
       "2                               Final Critic   4.88  \n",
       "3                                Blindscythe   3.27  \n",
       "4                                       Fury   1.44  "
      ]
     },
     "execution_count": 36,
     "metadata": {},
     "output_type": "execute_result"
    }
   ],
   "source": [
    "# 05-Ins_DataFunctions Activity Exercises \n",
    "\n",
    "# File to Load (Remember to Change These)\n",
    "data_file = \"purchase_data.csv\"\n",
    "\n",
    "# Read Purchasing File and store into Pandas data frame\n",
    "data_file_pd = pd.read_csv(data_file)\n",
    "data_file_pd.head()"
   ]
  },
  {
   "cell_type": "code",
   "execution_count": 26,
   "metadata": {},
   "outputs": [
    {
     "data": {
      "text/html": [
       "<div>\n",
       "<style scoped>\n",
       "    .dataframe tbody tr th:only-of-type {\n",
       "        vertical-align: middle;\n",
       "    }\n",
       "\n",
       "    .dataframe tbody tr th {\n",
       "        vertical-align: top;\n",
       "    }\n",
       "\n",
       "    .dataframe thead th {\n",
       "        text-align: right;\n",
       "    }\n",
       "</style>\n",
       "<table border=\"1\" class=\"dataframe\">\n",
       "  <thead>\n",
       "    <tr style=\"text-align: right;\">\n",
       "      <th></th>\n",
       "      <th>Purchase ID</th>\n",
       "      <th>Age</th>\n",
       "      <th>Item ID</th>\n",
       "      <th>Price</th>\n",
       "    </tr>\n",
       "  </thead>\n",
       "  <tbody>\n",
       "    <tr>\n",
       "      <td>count</td>\n",
       "      <td>780.000000</td>\n",
       "      <td>780.000000</td>\n",
       "      <td>780.000000</td>\n",
       "      <td>780.000000</td>\n",
       "    </tr>\n",
       "    <tr>\n",
       "      <td>mean</td>\n",
       "      <td>389.500000</td>\n",
       "      <td>22.714103</td>\n",
       "      <td>92.114103</td>\n",
       "      <td>3.050987</td>\n",
       "    </tr>\n",
       "    <tr>\n",
       "      <td>std</td>\n",
       "      <td>225.310896</td>\n",
       "      <td>6.659444</td>\n",
       "      <td>52.775943</td>\n",
       "      <td>1.169549</td>\n",
       "    </tr>\n",
       "    <tr>\n",
       "      <td>min</td>\n",
       "      <td>0.000000</td>\n",
       "      <td>7.000000</td>\n",
       "      <td>0.000000</td>\n",
       "      <td>1.000000</td>\n",
       "    </tr>\n",
       "    <tr>\n",
       "      <td>25%</td>\n",
       "      <td>194.750000</td>\n",
       "      <td>20.000000</td>\n",
       "      <td>48.000000</td>\n",
       "      <td>1.980000</td>\n",
       "    </tr>\n",
       "    <tr>\n",
       "      <td>50%</td>\n",
       "      <td>389.500000</td>\n",
       "      <td>22.000000</td>\n",
       "      <td>93.000000</td>\n",
       "      <td>3.150000</td>\n",
       "    </tr>\n",
       "    <tr>\n",
       "      <td>75%</td>\n",
       "      <td>584.250000</td>\n",
       "      <td>25.000000</td>\n",
       "      <td>139.000000</td>\n",
       "      <td>4.080000</td>\n",
       "    </tr>\n",
       "    <tr>\n",
       "      <td>max</td>\n",
       "      <td>779.000000</td>\n",
       "      <td>45.000000</td>\n",
       "      <td>183.000000</td>\n",
       "      <td>4.990000</td>\n",
       "    </tr>\n",
       "  </tbody>\n",
       "</table>\n",
       "</div>"
      ],
      "text/plain": [
       "       Purchase ID         Age     Item ID       Price\n",
       "count   780.000000  780.000000  780.000000  780.000000\n",
       "mean    389.500000   22.714103   92.114103    3.050987\n",
       "std     225.310896    6.659444   52.775943    1.169549\n",
       "min       0.000000    7.000000    0.000000    1.000000\n",
       "25%     194.750000   20.000000   48.000000    1.980000\n",
       "50%     389.500000   22.000000   93.000000    3.150000\n",
       "75%     584.250000   25.000000  139.000000    4.080000\n",
       "max     779.000000   45.000000  183.000000    4.990000"
      ]
     },
     "execution_count": 26,
     "metadata": {},
     "output_type": "execute_result"
    }
   ],
   "source": [
    "data_file_pd.describe()"
   ]
  },
  {
   "cell_type": "code",
   "execution_count": 28,
   "metadata": {},
   "outputs": [
    {
     "data": {
      "text/plain": [
       "0    3.53\n",
       "1    1.56\n",
       "2    4.88\n",
       "3    3.27\n",
       "4    1.44\n",
       "Name: Price, dtype: float64"
      ]
     },
     "execution_count": 28,
     "metadata": {},
     "output_type": "execute_result"
    }
   ],
   "source": [
    "# Reference a single column within a DataFrame\n",
    "data_file_pd[\"Price\"].head()"
   ]
  },
  {
   "cell_type": "code",
   "execution_count": 29,
   "metadata": {},
   "outputs": [
    {
     "data": {
      "text/html": [
       "<div>\n",
       "<style scoped>\n",
       "    .dataframe tbody tr th:only-of-type {\n",
       "        vertical-align: middle;\n",
       "    }\n",
       "\n",
       "    .dataframe tbody tr th {\n",
       "        vertical-align: top;\n",
       "    }\n",
       "\n",
       "    .dataframe thead th {\n",
       "        text-align: right;\n",
       "    }\n",
       "</style>\n",
       "<table border=\"1\" class=\"dataframe\">\n",
       "  <thead>\n",
       "    <tr style=\"text-align: right;\">\n",
       "      <th></th>\n",
       "      <th>Age</th>\n",
       "      <th>Gender</th>\n",
       "    </tr>\n",
       "  </thead>\n",
       "  <tbody>\n",
       "    <tr>\n",
       "      <td>0</td>\n",
       "      <td>20</td>\n",
       "      <td>Male</td>\n",
       "    </tr>\n",
       "    <tr>\n",
       "      <td>1</td>\n",
       "      <td>40</td>\n",
       "      <td>Male</td>\n",
       "    </tr>\n",
       "    <tr>\n",
       "      <td>2</td>\n",
       "      <td>24</td>\n",
       "      <td>Male</td>\n",
       "    </tr>\n",
       "    <tr>\n",
       "      <td>3</td>\n",
       "      <td>24</td>\n",
       "      <td>Male</td>\n",
       "    </tr>\n",
       "    <tr>\n",
       "      <td>4</td>\n",
       "      <td>23</td>\n",
       "      <td>Male</td>\n",
       "    </tr>\n",
       "  </tbody>\n",
       "</table>\n",
       "</div>"
      ],
      "text/plain": [
       "   Age Gender\n",
       "0   20   Male\n",
       "1   40   Male\n",
       "2   24   Male\n",
       "3   24   Male\n",
       "4   23   Male"
      ]
     },
     "execution_count": 29,
     "metadata": {},
     "output_type": "execute_result"
    }
   ],
   "source": [
    "# Reference multiple columns within a DataFrame\n",
    "data_file_pd[[\"Age\", \"Gender\"]].head()"
   ]
  },
  {
   "cell_type": "code",
   "execution_count": 31,
   "metadata": {},
   "outputs": [
    {
     "data": {
      "text/plain": [
       "3.050987179487176"
      ]
     },
     "execution_count": 31,
     "metadata": {},
     "output_type": "execute_result"
    }
   ],
   "source": [
    "# The mean method averages the series\n",
    "average = data_file_pd[\"Price\"].mean()\n",
    "average"
   ]
  },
  {
   "cell_type": "code",
   "execution_count": 32,
   "metadata": {},
   "outputs": [
    {
     "data": {
      "text/plain": [
       "2379.77"
      ]
     },
     "execution_count": 32,
     "metadata": {},
     "output_type": "execute_result"
    }
   ],
   "source": [
    "# The sum method adds every entry in the series\n",
    "total = data_file_pd[\"Price\"].sum()\n",
    "total"
   ]
  },
  {
   "cell_type": "code",
   "execution_count": 33,
   "metadata": {},
   "outputs": [
    {
     "data": {
      "text/plain": [
       "array(['Extraction, Quickblade Of Trembling Hands', 'Frenzied Scimitar',\n",
       "       'Final Critic', 'Blindscythe', 'Fury', 'Dreamkiss',\n",
       "       'Interrogator, Blood Blade of the Queen', 'Abyssal Shard',\n",
       "       'Souleater', 'Ghastly Adamantite Protector',\n",
       "       'Singed Onyx Warscythe', 'Renewed Skeletal Katana',\n",
       "       \"Bloodlord's Fetish\", 'Bone Crushing Silver Skewer',\n",
       "       'Deadline, Voice Of Subtlety', 'Second Chance', 'Devine',\n",
       "       'Nirvana', 'Blazefury, Protector of Delusions',\n",
       "       'Despair, Favor of Due Diligence',\n",
       "       'Sun Strike, Jaws of Twisted Visions', 'Warped Fetish',\n",
       "       'Severance', 'Persuasion',\n",
       "       'Oathbreaker, Last Hope of the Breaking Storm', 'Demise',\n",
       "       'Blood-Forged Skeletal Spine',\n",
       "       'Stormbringer, Dark Blade of Ending Misery',\n",
       "       'Shadow Strike, Glory of Ending Hope', 'Striker',\n",
       "       'Wolf, Promise of the Moonwalker', \"Faith's Scimitar\",\n",
       "       'Bonecarvin Battle Axe', 'Azurewrath', 'Vengeance Cleaver',\n",
       "       'Haunted Bronzed Bludgeon', 'Ritual Mace', 'Blade of the Grave',\n",
       "       'Thorn, Satchel of Dark Souls', \"Winter's Bite\",\n",
       "       'Thorn, Conqueror of the Corrupted', \"Reaper's Toll\", 'Avenger',\n",
       "       'Shadowsteel', 'Peacekeeper, Wit of Dark Magic', 'Suspension',\n",
       "       'Amnesia', 'Soul Infused Crystal', 'Wolf',\n",
       "       'Relentless Iron Skewer', 'Hero Cane', 'Arcane Gem', 'Dreamsong',\n",
       "       'Darkheart', 'Hailstorm Shadowsteel Scythe',\n",
       "       'Whistling Mithril Warblade', 'Foul Titanium Battle Axe',\n",
       "       'Retribution Axe', 'Rusty Skull',\n",
       "       'Riddle, Tribute of Ended Dreams', 'Chaos, Ender of the End',\n",
       "       'Storm-Weaver, Slayer of Inception', 'Venom Claymore',\n",
       "       'Emberling, Defender of Delusions', 'Netherbane', 'Dawn',\n",
       "       'Primitive Blade', 'Dawne', 'Curved Axe',\n",
       "       'Fate, Vengeance of Eternal Justice',\n",
       "       'Lazarus, Terror of the Earth', 'Lightning, Etcher of the King',\n",
       "       'Betrayal, Whisper of Grieving Widows', 'Exiled Doomblade',\n",
       "       'Undead Crusader', 'Downfall, Scalpel Of The Emperor',\n",
       "       'Sleepwalker', 'Eternal Cleaver',\n",
       "       'Expiration, Warscythe Of Lost Worlds', 'Malificent Bag',\n",
       "       'Mercy, Katana of Dismay', 'Orbit', 'Deathraze', 'Serenity',\n",
       "       'Heartstriker, Legacy of the Light', 'Glimmer, Ender of the Moon',\n",
       "       'Deluge, Edge of the West', 'Crucifer', 'Piece Maker',\n",
       "       'Brutality Ivory Warmace', \"Freak's Bite, Favor of Holy Might\",\n",
       "       'Yearning Crusher', 'Agatha', 'Fiery Glass Crusader', 'Splinter',\n",
       "       'Verdict', 'Warped Iron Scimitar',\n",
       "       'Darkheart, Butcher of the Champion', 'Purgatory, Gem of Regret',\n",
       "       'Woeful Adamantite Claymore', 'Hopeless Ebon Dualblade',\n",
       "       \"Warmonger, Gift of Suffering's End\", \"Misery's End\",\n",
       "       'Phantomlight', 'Conqueror Adamantite Mace', \"Dragon's Greatsword\",\n",
       "       'Stormcaller', 'Spada, Etcher of Hatred', \"Twilight's Carver\",\n",
       "       'Putrid Fan', 'Blood Infused Guardian', 'Singed Scalpel',\n",
       "       'Warped Diamond Crusader', 'Endbringer', 'Feral Katana', 'Orenmir',\n",
       "       'Piety, Guardian of Riddles', 'Brimstone', 'Stormfury Mace',\n",
       "       'Frenzy, Defender of the Harvest', \"Solitude's Reaver\",\n",
       "       'Mercenary Sabre', 'Yearning Mageblade',\n",
       "       'Tranquility, Razor of Black Magic',\n",
       "       'Oathbreaker, Spellblade of Trials',\n",
       "       'Aetherius, Boon of the Blessed', 'Righteous Might',\n",
       "       'Victor Iron Spikes', 'Swan Song, Gouger Of Terror',\n",
       "       'Thunderfury Scimitar', 'Splitter, Foe Of Subtlety',\n",
       "       'Restored Bauble', 'The Decapitator',\n",
       "       'Pursuit, Cudgel of Necromancy', 'Lifebender',\n",
       "       'Flux, Destroyer of Due Diligence', 'Mourning Blade', 'Toothpick',\n",
       "       \"Hope's End\", 'Torchlight, Bond of Storms', 'Thirsty Iron Reaver',\n",
       "       'Stormfury Longsword', 'Malice, Legacy of the Queen',\n",
       "       'War-Forged Gold Deflector', 'Blazeguard, Reach of Eternity',\n",
       "       'Soul-Forged Steel Shortsword',\n",
       "       'Hellreaver, Heirloom of Inception', 'Heartless Bone Dualblade',\n",
       "       'Scalpel', 'Hatred', 'Crying Steel Sickle',\n",
       "       'The Void, Vengeance of Dark Magic', 'Celeste',\n",
       "       'Ghost Reaver, Longsword of Magic',\n",
       "       'Celeste, Incarnation of the Corrupted', 'Glinting Glass Edge',\n",
       "       'The Oculus, Token of Lost Worlds', 'Massacre',\n",
       "       'Alpha, Oath of Zeal', 'Possessed Core', 'Foul Edge', 'Trickster',\n",
       "       'Fusion Pummel', 'Stormfury Lantern', 'Apocalyptic Battlescythe',\n",
       "       'Unholy Wand', 'Unending Tyranny', 'Ragnarok',\n",
       "       'Rage, Legacy of the Lone Victor', 'Worldbreaker',\n",
       "       'Exiled Mithril Longsword', 'Spectral Diamond Doomblade',\n",
       "       'Vindictive Glass Edge', 'Heartseeker, Reaver of Souls',\n",
       "       'Alpha, Reach of Ending Hope', 'Alpha', 'Betrayer',\n",
       "       'Winterthorn, Defender of Shifting Worlds', \"Gladiator's Glaive\"],\n",
       "      dtype=object)"
      ]
     },
     "execution_count": 33,
     "metadata": {},
     "output_type": "execute_result"
    }
   ],
   "source": [
    "# The unique method shows every element of the series that appears only once\n",
    "unique = data_file_pd[\"Item Name\"].unique()\n",
    "unique"
   ]
  },
  {
   "cell_type": "code",
   "execution_count": 34,
   "metadata": {},
   "outputs": [
    {
     "data": {
      "text/plain": [
       "Male                     652\n",
       "Female                   113\n",
       "Other / Non-Disclosed     15\n",
       "Name: Gender, dtype: int64"
      ]
     },
     "execution_count": 34,
     "metadata": {},
     "output_type": "execute_result"
    }
   ],
   "source": [
    "# The value_counts method counts unique values in a column\n",
    "count = data_file_pd[\"Gender\"].value_counts()\n",
    "count"
   ]
  },
  {
   "cell_type": "code",
   "execution_count": 35,
   "metadata": {},
   "outputs": [
    {
     "data": {
      "text/html": [
       "<div>\n",
       "<style scoped>\n",
       "    .dataframe tbody tr th:only-of-type {\n",
       "        vertical-align: middle;\n",
       "    }\n",
       "\n",
       "    .dataframe tbody tr th {\n",
       "        vertical-align: top;\n",
       "    }\n",
       "\n",
       "    .dataframe thead th {\n",
       "        text-align: right;\n",
       "    }\n",
       "</style>\n",
       "<table border=\"1\" class=\"dataframe\">\n",
       "  <thead>\n",
       "    <tr style=\"text-align: right;\">\n",
       "      <th></th>\n",
       "      <th>Purchase ID</th>\n",
       "      <th>SN</th>\n",
       "      <th>Age</th>\n",
       "      <th>Gender</th>\n",
       "      <th>Item ID</th>\n",
       "      <th>Item Name</th>\n",
       "      <th>Price</th>\n",
       "      <th>Thousands of Dollars</th>\n",
       "    </tr>\n",
       "  </thead>\n",
       "  <tbody>\n",
       "    <tr>\n",
       "      <td>0</td>\n",
       "      <td>0</td>\n",
       "      <td>Lisim78</td>\n",
       "      <td>20</td>\n",
       "      <td>Male</td>\n",
       "      <td>108</td>\n",
       "      <td>Extraction, Quickblade Of Trembling Hands</td>\n",
       "      <td>3.53</td>\n",
       "      <td>0.00353</td>\n",
       "    </tr>\n",
       "    <tr>\n",
       "      <td>1</td>\n",
       "      <td>1</td>\n",
       "      <td>Lisovynya38</td>\n",
       "      <td>40</td>\n",
       "      <td>Male</td>\n",
       "      <td>143</td>\n",
       "      <td>Frenzied Scimitar</td>\n",
       "      <td>1.56</td>\n",
       "      <td>0.00156</td>\n",
       "    </tr>\n",
       "    <tr>\n",
       "      <td>2</td>\n",
       "      <td>2</td>\n",
       "      <td>Ithergue48</td>\n",
       "      <td>24</td>\n",
       "      <td>Male</td>\n",
       "      <td>92</td>\n",
       "      <td>Final Critic</td>\n",
       "      <td>4.88</td>\n",
       "      <td>0.00488</td>\n",
       "    </tr>\n",
       "    <tr>\n",
       "      <td>3</td>\n",
       "      <td>3</td>\n",
       "      <td>Chamassasya86</td>\n",
       "      <td>24</td>\n",
       "      <td>Male</td>\n",
       "      <td>100</td>\n",
       "      <td>Blindscythe</td>\n",
       "      <td>3.27</td>\n",
       "      <td>0.00327</td>\n",
       "    </tr>\n",
       "    <tr>\n",
       "      <td>4</td>\n",
       "      <td>4</td>\n",
       "      <td>Iskosia90</td>\n",
       "      <td>23</td>\n",
       "      <td>Male</td>\n",
       "      <td>131</td>\n",
       "      <td>Fury</td>\n",
       "      <td>1.44</td>\n",
       "      <td>0.00144</td>\n",
       "    </tr>\n",
       "  </tbody>\n",
       "</table>\n",
       "</div>"
      ],
      "text/plain": [
       "   Purchase ID             SN  Age Gender  Item ID  \\\n",
       "0            0        Lisim78   20   Male      108   \n",
       "1            1    Lisovynya38   40   Male      143   \n",
       "2            2     Ithergue48   24   Male       92   \n",
       "3            3  Chamassasya86   24   Male      100   \n",
       "4            4      Iskosia90   23   Male      131   \n",
       "\n",
       "                                   Item Name  Price  Thousands of Dollars  \n",
       "0  Extraction, Quickblade Of Trembling Hands   3.53               0.00353  \n",
       "1                          Frenzied Scimitar   1.56               0.00156  \n",
       "2                               Final Critic   4.88               0.00488  \n",
       "3                                Blindscythe   3.27               0.00327  \n",
       "4                                       Fury   1.44               0.00144  "
      ]
     },
     "execution_count": 35,
     "metadata": {},
     "output_type": "execute_result"
    }
   ],
   "source": [
    "# Calculations can also be performed on Series and added into DataFrames as new columns\n",
    "thousands_of_dollars = data_file_pd[\"Price\"]/1000\n",
    "data_file_pd[\"Thousands of Dollars\"] = thousands_of_dollars\n",
    "\n",
    "data_file_pd.head()"
   ]
  },
  {
   "cell_type": "code",
   "execution_count": null,
   "metadata": {},
   "outputs": [],
   "source": []
  }
 ],
 "metadata": {
  "kernelspec": {
   "display_name": "Python 3",
   "language": "python",
   "name": "python3"
  },
  "language_info": {
   "codemirror_mode": {
    "name": "ipython",
    "version": 3
   },
   "file_extension": ".py",
   "mimetype": "text/x-python",
   "name": "python",
   "nbconvert_exporter": "python",
   "pygments_lexer": "ipython3",
   "version": "3.7.4"
  }
 },
 "nbformat": 4,
 "nbformat_minor": 4
}
